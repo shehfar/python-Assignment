{
 "cells": [
  {
   "cell_type": "code",
   "execution_count": null,
   "id": "fe743898",
   "metadata": {},
   "outputs": [],
   "source": [
    "\"\"\"\"\n",
    "Q No.1\n",
    "    write a program to print the following string in a specific format(see the below output).\n",
    "        Twinkle, twinkle, little star,\n",
    "                    How I wonder what you are!\n",
    "                            Up above the world so high,\n",
    "                            like a diamond in the sky.\n",
    "         Twinkle, twinkle, little star,\n",
    "                    How I wonder what you are\n",
    "\n",
    "\"\"\"\"\n",
    "\n",
    "a=(\"Twinkle, twinkle, little star, \")\n",
    "b=(\"            How I wonder what you are!\")/n\n",
    "c=(\"                   Up above the world so high,\")/n\n",
    "d=(\"                   like a diamond in the sky.\")/n\n",
    "e=(\"    Twinkle, twinkle, little star,\")/n\n",
    "f=(\"             How I wonder what you are\")\n",
    "print(a)\n",
    "\n"
   ]
  },
  {
   "cell_type": "code",
   "execution_count": 2,
   "id": "0b1657a1",
   "metadata": {},
   "outputs": [
    {
     "name": "stdout",
     "output_type": "stream",
     "text": [
      "3.8.8\n"
     ]
    }
   ],
   "source": [
    "# Q No.2 write a python program to get the version you are using\n",
    "from platform import python_version\n",
    "\n",
    "print(python_version())"
   ]
  },
  {
   "cell_type": "code",
   "execution_count": 3,
   "id": "2e70dfb5",
   "metadata": {},
   "outputs": [
    {
     "name": "stdout",
     "output_type": "stream",
     "text": [
      "Current date and time : \n",
      "2021-12-30 06:11:33\n"
     ]
    }
   ],
   "source": [
    "# Q No.3 write a python program to display the current date and time.\n",
    "import datetime\n",
    "now = datetime.datetime.now()\n",
    "print (\"Current date and time : \")\n",
    "print (now.strftime(\"%Y-%m-%d %H:%M:%S\"))"
   ]
  },
  {
   "cell_type": "code",
   "execution_count": 4,
   "id": "1bcde12a",
   "metadata": {},
   "outputs": [
    {
     "name": "stdout",
     "output_type": "stream",
     "text": [
      "Input the radius of the circle : 3\n",
      "The area of the circle with radius 3.0 is: 28.274333882308138\n"
     ]
    }
   ],
   "source": [
    "# Q No.4 write a python program which accepts the radius of a circle from the user and compute the area.\n",
    "from math import pi\n",
    "r = float(input (\"Input the radius of the circle : \"))\n",
    "print (\"The area of the circle with radius \" + str(r) + \" is: \" + str(pi * r**2))"
   ]
  },
  {
   "cell_type": "code",
   "execution_count": 5,
   "id": "0f450015",
   "metadata": {},
   "outputs": [
    {
     "name": "stdout",
     "output_type": "stream",
     "text": [
      "Input your First Name : Ali\n",
      "Input your Last Name : Bakht\n",
      "Hello  Bakht Ali\n"
     ]
    }
   ],
   "source": [
    "#Q No.5 write a python program which accepts the user's first and last name and print them inreverse order with a space between them\n",
    "fname = input(\"Input your First Name : \")\n",
    "lname = input(\"Input your Last Name : \")\n",
    "print (\"Hello  \" + lname + \" \" + fname)"
   ]
  },
  {
   "cell_type": "code",
   "execution_count": 6,
   "id": "dd9b9540",
   "metadata": {},
   "outputs": [
    {
     "name": "stdout",
     "output_type": "stream",
     "text": [
      "Enter first number: 12\n",
      "Enter second number: 10\n",
      "The sum of 12 and 10 is 22.0\n"
     ]
    }
   ],
   "source": [
    "#Q No.6 write a python program which takes two inputs from the user and print them addition\n",
    "\n",
    "num1 = input('Enter first number: ')\n",
    "num2 = input('Enter second number: ')\n",
    "sum = float(num1) + float(num2)\n",
    "print('The sum of {0} and {1} is {2}'.format(num1, num2, sum))"
   ]
  },
  {
   "cell_type": "code",
   "execution_count": null,
   "id": "fa582841",
   "metadata": {},
   "outputs": [],
   "source": []
  }
 ],
 "metadata": {
  "kernelspec": {
   "display_name": "Python 3",
   "language": "python",
   "name": "python3"
  },
  "language_info": {
   "codemirror_mode": {
    "name": "ipython",
    "version": 3
   },
   "file_extension": ".py",
   "mimetype": "text/x-python",
   "name": "python",
   "nbconvert_exporter": "python",
   "pygments_lexer": "ipython3",
   "version": "3.8.8"
  }
 },
 "nbformat": 4,
 "nbformat_minor": 5
}
