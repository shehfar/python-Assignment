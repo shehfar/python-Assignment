{
 "cells": [
  {
   "cell_type": "code",
   "execution_count": null,
   "id": "3e54ad7a",
   "metadata": {},
   "outputs": [
    {
     "name": "stdout",
     "output_type": "stream",
     "text": [
      "Select operation.\n",
      "1.Add\n",
      "2.Subtract\n",
      "3.Multiply\n",
      "4.Divide\n",
      "4.power\n"
     ]
    }
   ],
   "source": [
    "#Q No.1:Make a calculator using Python with addition , subtraction ,\n",
    "#multiplication ,division and power.\n",
    "def add(x, y):\n",
    "    return x + y\n",
    "def subtract(x, y):\n",
    "    return x - y\n",
    "def multiply(x, y):\n",
    "    return x * y\n",
    "def divide(x, y):\n",
    "    return x / y\n",
    "print(\"Select operation.\")\n",
    "print(\"1.Add\")\n",
    "print(\"2.Subtract\")\n",
    "print(\"3.Multiply\")\n",
    "print(\"4.Divide\")\n",
    "print(\"4.power\")\n",
    "\n",
    "while True:\n",
    "    choice = input(\"Enter choice(1/2/3/4/5): \")\n",
    "    if choice in ('1', '2', '3', '4', '5'):\n",
    "        num1 = float(input(\"Enter first number: \"))\n",
    "        num2 = float(input(\"Enter second number: \"))\n",
    "\n",
    "        if choice == '1':\n",
    "            print(num1, \"+\", num2, \"=\", add(num1, num2))\n",
    "\n",
    "        elif choice == '2':\n",
    "            print(num1, \"-\", num2, \"=\", subtract(num1, num2))\n",
    "\n",
    "        elif choice == '3':\n",
    "            print(num1, \"*\", num2, \"=\", multiply(num1, num2))\n",
    "\n",
    "        elif choice == '4':\n",
    "            print(num1, \"/\", num2, \"=\", divide(num1, num2))\n",
    "        elif choice== '5':\n",
    "           def power(a,b):\n",
    "            if b==0:\n",
    "                return 1\n",
    "            elif a==0:\n",
    "                return 0\n",
    "            elif b==1:\n",
    "                return a\n",
    "            else:\n",
    "                return a*power(a,b-1)\n",
    "\n",
    "                print(power(3,4))\n",
    "\n",
    "        \n",
    "           next_calculation = input(\"Let's do next calculation? (yes/no): \")\n",
    "        if next_calculation == \"no\":\n",
    "          break\n",
    "    \n",
    "    else:\n",
    "        print(\"Invalid Input\")"
   ]
  },
  {
   "cell_type": "code",
   "execution_count": 1,
   "id": "93ccd7b1",
   "metadata": {},
   "outputs": [
    {
     "name": "stdout",
     "output_type": "stream",
     "text": [
      "4\n"
     ]
    }
   ],
   "source": [
    "#Q No.2. Write a program to check if there is any numeric value in list using for\n",
    "#loop\n",
    "list = [\"abc\", \"def\", 4, \"ghi\"] \n",
    "for x in list: \n",
    "    if type(x) == int: \n",
    "        print(x)"
   ]
  },
  {
   "cell_type": "code",
   "execution_count": 3,
   "id": "1a0343c1",
   "metadata": {},
   "outputs": [
    {
     "name": "stdout",
     "output_type": "stream",
     "text": [
      "{0: 10, 1: 20, 2: 30}\n",
      "{0: 10, 1: 20, 2: 30}\n"
     ]
    }
   ],
   "source": [
    "#Q No3. Write a Python script to add a key to a dictionary.\n",
    "dic = {0:10, 1:20}\n",
    "print(d)\n",
    "dic.update({2:30})\n",
    "print(dic)"
   ]
  },
  {
   "cell_type": "code",
   "execution_count": 5,
   "id": "157aeac0",
   "metadata": {},
   "outputs": [
    {
     "name": "stdout",
     "output_type": "stream",
     "text": [
      "831\n"
     ]
    }
   ],
   "source": [
    "#Q NO.4: Write a Python program to sum all the numeric items in a dictionary.\n",
    "my_dict = {'data1':100,'data2':54,'data3':247,'data4':430}\n",
    "print(sum(my_dict.values()))"
   ]
  },
  {
   "cell_type": "code",
   "execution_count": 6,
   "id": "36f3d428",
   "metadata": {},
   "outputs": [
    {
     "name": "stdout",
     "output_type": "stream",
     "text": [
      "2 3 4 5 "
     ]
    }
   ],
   "source": [
    "#Q NO.5: Write a program to identify duplicate values from list.\n",
    "l=[1,2,3,4,5,2,3,4,7,9,5]\n",
    "l1=[]\n",
    "for i in l:\n",
    "    if i not in l1:\n",
    "        l1.append(i)\n",
    "    else:\n",
    "        print(i,end=' ')"
   ]
  },
  {
   "cell_type": "code",
   "execution_count": 11,
   "id": "a2e463fc",
   "metadata": {},
   "outputs": [
    {
     "name": "stdout",
     "output_type": "stream",
     "text": [
      "Key is exist in the dictionary\n"
     ]
    }
   ],
   "source": [
    "# Q No.6: Write a Python script to check if a given key already exists in a\n",
    "#dictionary\n",
    "d = {1: 10, 2: 20, 3: 30, 4: 40, 5: 50, 6: 60}\n",
    "def a (x):\n",
    "  if x in d:\n",
    "      print('Key is exist in the dictionary')\n",
    "  else:\n",
    "      print('Key is not exist in the dictionary')\n",
    "a(5)"
   ]
  },
  {
   "cell_type": "code",
   "execution_count": null,
   "id": "205c27d5",
   "metadata": {},
   "outputs": [],
   "source": []
  }
 ],
 "metadata": {
  "kernelspec": {
   "display_name": "Python 3",
   "language": "python",
   "name": "python3"
  },
  "language_info": {
   "codemirror_mode": {
    "name": "ipython",
    "version": 3
   },
   "file_extension": ".py",
   "mimetype": "text/x-python",
   "name": "python",
   "nbconvert_exporter": "python",
   "pygments_lexer": "ipython3",
   "version": "3.8.8"
  }
 },
 "nbformat": 4,
 "nbformat_minor": 5
}
