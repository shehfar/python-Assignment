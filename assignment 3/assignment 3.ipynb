{
 "cells": [
  {
   "cell_type": "code",
   "execution_count": null,
   "id": "0653243e",
   "metadata": {},
   "outputs": [],
   "source": []
  },
  {
   "cell_type": "code",
   "execution_count": 2,
   "id": "3d8675b6",
   "metadata": {},
   "outputs": [
    {
     "ename": "SyntaxError",
     "evalue": "EOL while scanning string literal (<ipython-input-2-cbfbe4c173e4>, line 11)",
     "output_type": "error",
     "traceback": [
      "\u001b[1;36m  File \u001b[1;32m\"<ipython-input-2-cbfbe4c173e4>\"\u001b[1;36m, line \u001b[1;32m11\u001b[0m\n\u001b[1;33m    \"\"\"\"\u001b[0m\n\u001b[1;37m        \n^\u001b[0m\n\u001b[1;31mSyntaxError\u001b[0m\u001b[1;31m:\u001b[0m EOL while scanning string literal\n"
     ]
    }
   ],
   "source": [
    "\"\"\"\"\n",
    "Q No.1\n",
    "    write a program to print the following string in a specific format(see the below output).\n",
    "        Twinkle, twinkle, little star,\n",
    "                    How I wonder what you are!\n",
    "                            Up above the world so high,\n",
    "                            like a diamond in the sky.\n",
    "         Twinkle, twinkle, little star,\n",
    "                    How I wonder what you are\n",
    "\n",
    "\"\"\"\"\n",
    "\n",
    "a=(\"Twinkle, twinkle, little star,/n        How I wonder what you are! /n                Up above the world so high, /n                like a diamond in the sky. /n        Twinkle, twinkle, little star, /n                How I wonder what you are\")\n",
    "print(a)\n",
    "\n"
   ]
  },
  {
   "cell_type": "code",
   "execution_count": 6,
   "id": "c41e4e49",
   "metadata": {},
   "outputs": [
    {
     "name": "stdout",
     "output_type": "stream",
     "text": [
      "3.8.8\n"
     ]
    }
   ],
   "source": [
    "# Q No.2 write a python program to get the version you are using\n",
    "from platform import python_version\n",
    "\n",
    "print(python_version())"
   ]
  },
  {
   "cell_type": "code",
   "execution_count": 8,
   "id": "14996bb6",
   "metadata": {},
   "outputs": [
    {
     "name": "stdout",
     "output_type": "stream",
     "text": [
      "Current date and time : \n",
      "2021-10-21 13:06:41\n"
     ]
    }
   ],
   "source": [
    "# Q No.3 write a python program to display the current date and time.\n",
    "import datetime\n",
    "now = datetime.datetime.now()\n",
    "print (\"Current date and time : \")\n",
    "print (now.strftime(\"%Y-%m-%d %H:%M:%S\"))"
   ]
  },
  {
   "cell_type": "code",
   "execution_count": 9,
   "id": "5cf39a57",
   "metadata": {},
   "outputs": [
    {
     "name": "stdout",
     "output_type": "stream",
     "text": [
      "Input the radius of the circle : 2.0\n",
      "The area of the circle with radius 2.0 is: 12.566370614359172\n"
     ]
    }
   ],
   "source": [
    "# Q No.4 write a python program which accepts the radius of a circle from the user and compute the area.\n",
    "from math import pi\n",
    "r = float(input (\"Input the radius of the circle : \"))\n",
    "print (\"The area of the circle with radius \" + str(r) + \" is: \" + str(pi * r**2))"
   ]
  },
  {
   "cell_type": "code",
   "execution_count": 10,
   "id": "80672d10",
   "metadata": {},
   "outputs": [
    {
     "name": "stdout",
     "output_type": "stream",
     "text": [
      "Input your First Name : bakht\n",
      "Input your Last Name : ali\n",
      "Hello  ali bakht\n"
     ]
    }
   ],
   "source": [
    "#Q No.5 write a python program which accepts the user's first and last name and print them inreverse order with a space between them\n",
    "fname = input(\"Input your First Name : \")\n",
    "lname = input(\"Input your Last Name : \")\n",
    "print (\"Hello  \" + lname + \" \" + fname)\n"
   ]
  },
  {
   "cell_type": "code",
   "execution_count": 11,
   "id": "cfe72d2d",
   "metadata": {},
   "outputs": [
    {
     "name": "stdout",
     "output_type": "stream",
     "text": [
      "Enter first number: 2\n",
      "Enter second number: 3\n",
      "The sum of 2 and 3 is 5.0\n"
     ]
    }
   ],
   "source": [
    "#Q No.6 write a python program which takes two inputs from the user and print them addition\n",
    "\n",
    "num1 = input('Enter first number: ')\n",
    "num2 = input('Enter second number: ')\n",
    "sum = float(num1) + float(num2)\n",
    "print('The sum of {0} and {1} is {2}'.format(num1, num2, sum))"
   ]
  },
  {
   "cell_type": "code",
   "execution_count": 6,
   "id": "3699be2d",
   "metadata": {},
   "outputs": [
    {
     "name": "stdout",
     "output_type": "stream",
     "text": [
      "Please enter English Marks: 90\n",
      "Please enter Math score: 89\n",
      "Please enter Computer Marks: 94\n",
      "Please enter Physics Marks: 86\n",
      "Please enter Chemistry Marks: 98\n",
      "English=  90.0\n",
      "maths=  89.0\n",
      "computers=  94.0\n",
      "physics=  86.0\n",
      "chemistry=  98.0\n",
      "\n",
      "Total Marks = 457.00\n",
      "Marks Percentage = 91.40\n"
     ]
    }
   ],
   "source": [
    "# Q No.7: Write a program which takes 5 inputs from user for different subject’s marks, total it and generate mark sheet using grades\n",
    "english = float(input(\"Please enter English Marks: \"))\n",
    "math = float(input(\"Please enter Math score: \"))\n",
    "computers = float(input(\"Please enter Computer Marks: \"))\n",
    "physics = float(input(\"Please enter Physics Marks: \"))\n",
    "chemistry = float(input(\"Please enter Chemistry Marks: \"))\n",
    "print(\"English= \" ,english)\n",
    "print(\"maths= \", math)\n",
    "print(\"computers= \", computers)\n",
    "print(\"physics= \", physics)\n",
    "print(\"chemistry= \", chemistry)\n",
    "total = english + math + computers + physics + chemistry\n",
    "average = total / 5\n",
    "percentage = (total / 500) * 100\n",
    "\n",
    "print(\"\\nTotal Marks = %.2f\"  %total)\n",
    "print(\"Marks Percentage = %.2f\"  %percentage)"
   ]
  },
  {
   "cell_type": "code",
   "execution_count": 11,
   "id": "363b27fc",
   "metadata": {},
   "outputs": [
    {
     "name": "stdout",
     "output_type": "stream",
     "text": [
      "Enter the number to be checked:33\n",
      "33 is  not an even number.\n"
     ]
    }
   ],
   "source": [
    "#Q No.8:Write a program which take input from user and identify that the given number is even or odd?\n",
    "number = int(input(\"Enter the number to be checked:\"))                                                                                                                                                   \n",
    "if (number % 2) == 0:                                                                                                                     \n",
    "     print(number, \"is an even number.\")                                                                                      \n",
    "else:                                                                                                                                                   \n",
    "     print(number, \"is  not an even number.\") "
   ]
  },
  {
   "cell_type": "code",
   "execution_count": 13,
   "id": "20813ecb",
   "metadata": {},
   "outputs": [
    {
     "name": "stdout",
     "output_type": "stream",
     "text": [
      "The list is : [1, 4, 5, 7, 8]\n",
      "Length of list using naive method is : 5\n"
     ]
    }
   ],
   "source": [
    "#Q No.9: Write a program which print the length of the list?\n",
    "test_list = [ 1, 4, 5, 7, 8 ]\n",
    "print (\"The list is : \" + str(test_list))\n",
    "counter = 0\n",
    "for i in test_list:\n",
    "    counter = counter + 1\n",
    "print (\"Length of list using naive method is : \" + str(counter))"
   ]
  },
  {
   "cell_type": "code",
   "execution_count": 20,
   "id": "96ce5b1c",
   "metadata": {},
   "outputs": [
    {
     "name": "stdout",
     "output_type": "stream",
     "text": [
      "17\n"
     ]
    }
   ],
   "source": [
    "# Q No. 10: Write a Python program to sum all the numeric items in a list\n",
    "def sum_list(items):  \n",
    "    sum_numbers = 0  \n",
    "    for x in items:  \n",
    "        sum_numbers += x  \n",
    "    return sum_numbers  \n",
    "print(sum_list([1,2,-8,12,10])) "
   ]
  },
  {
   "cell_type": "code",
   "execution_count": 22,
   "id": "0237945f",
   "metadata": {},
   "outputs": [
    {
     "name": "stdout",
     "output_type": "stream",
     "text": [
      "Largest element is: 200\n"
     ]
    }
   ],
   "source": [
    "# Q No.11: Write a Python program to get the largest number from a numeric list.\n",
    "list1 = [10, 20, 4,200,44, 45, 99]\n",
    "print(\"Largest element is:\", max(list1))"
   ]
  },
  {
   "cell_type": "code",
   "execution_count": 28,
   "id": "1be48a31",
   "metadata": {},
   "outputs": [
    {
     "name": "stdout",
     "output_type": "stream",
     "text": [
      "[1, 4, 1, 2, 3]\n"
     ]
    }
   ],
   "source": [
    "# Q No.12: Take a list, say for example this one:\n",
    "#a = [1, 1, 2, 3, 5, 8, 13, 21, 34, 55, 89]\n",
    "#Write a program that prints out all the elements of the list that are less than 5.\n",
    "a = [1,4, 1,5,6,7, 2, 3, 5, 8, 13, 21, 34, 55, 89]\n",
    "\n",
    "new_list = []\n",
    "\n",
    "for item in a:\n",
    "  \n",
    " if item < 5:\n",
    "    \n",
    "    new_list.append(item)\n",
    "print(new_list)\n"
   ]
  },
  {
   "cell_type": "code",
   "execution_count": null,
   "id": "5f3cb8a4",
   "metadata": {},
   "outputs": [],
   "source": []
  }
 ],
 "metadata": {
  "kernelspec": {
   "display_name": "Python 3",
   "language": "python",
   "name": "python3"
  },
  "language_info": {
   "codemirror_mode": {
    "name": "ipython",
    "version": 3
   },
   "file_extension": ".py",
   "mimetype": "text/x-python",
   "name": "python",
   "nbconvert_exporter": "python",
   "pygments_lexer": "ipython3",
   "version": "3.8.8"
  }
 },
 "nbformat": 4,
 "nbformat_minor": 5
}
